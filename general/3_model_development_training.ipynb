{
 "cells": [
  {
   "cell_type": "code",
   "execution_count": null,
   "id": "initial_id",
   "metadata": {
    "collapsed": true
   },
   "outputs": [],
   "source": [
    "import pandas as pd\n",
    "import numpy as np\n",
    "import matplotlib.pyplot as plt\n",
    "import seaborn as sns\n",
    "import logging\n",
    "\n",
    "from sklearn.model_selection import train_test_split, GridSearchCV, cross_val_score\n",
    "from sklearn.metrics import (\n",
    "    accuracy_score, precision_score, recall_score, f1_score, confusion_matrix, \n",
    "    classification_report, mean_squared_error, r2_score\n",
    ")\n",
    "from sklearn.ensemble import RandomForestClassifier\n",
    "from sklearn.linear_model import LinearRegression, LogisticRegression\n",
    "from sklearn.svm import SVC\n",
    "import joblib  # For saving models\n",
    "from notebooks.functions import BasicDataDHandelFunctions\n",
    "# Configure logging\n",
    "logging.basicConfig(level=logging.INFO, format='%(asctime)s - %(levelname)s - %(message)s')\n",
    "\n",
    "# For handling warnings\n",
    "import warnings\n",
    "warnings.filterwarnings('ignore')\n",
    "\n",
    "# Set random seed for reproducibility\n",
    "SEED = 42\n",
    "np.random.seed(SEED)\n"
   ]
  },
  {
   "metadata": {},
   "cell_type": "code",
   "outputs": [],
   "execution_count": null,
   "source": [
    "file_path = '../data/sample.csv'\n",
    "df = BasicDataDHandelFunctions.load_dataset(file_path)"
   ],
   "id": "cd4676c11690fb3e"
  },
  {
   "metadata": {},
   "cell_type": "code",
   "outputs": [],
   "execution_count": null,
   "source": [
    "# Load Dataset with Error Handling\n",
    "def load_dataset(file_path):\n",
    "    \"\"\"Loads a dataset from a specified path.\"\"\"\n",
    "    try:\n",
    "        df = pd.read_csv(file_path)\n",
    "        logging.info(f\"Dataset loaded successfully from {file_path}\")\n",
    "        return df\n",
    "    except FileNotFoundError:\n",
    "        logging.error(f\"File not found at {file_path}\")\n",
    "    except Exception as e:\n",
    "        logging.error(f\"An error occurred: {e}\")\n",
    "\n",
    "# Replace with your dataset path or URL\n",
    "file_path = 'path/to/your_dataset.csv'\n",
    "df = load_dataset(file_path)\n",
    "\n",
    "# Display the first few rows if the dataset was loaded successfully\n",
    "if df is not None:\n",
    "    display(df.head())\n"
   ],
   "id": "460bec4b89a7c0ee"
  },
  {
   "metadata": {},
   "cell_type": "code",
   "outputs": [],
   "execution_count": null,
   "source": [
    "# Data Preparation - Splitting the Data\n",
    "def prepare_data(df, target_column, test_size=0.2, val_size=0.1):\n",
    "    \"\"\"Splits the data into train, validation, and test sets.\"\"\"\n",
    "    if target_column not in df.columns:\n",
    "        logging.error(f\"Target column '{target_column}' not found in DataFrame.\")\n",
    "        return None, None, None, None, None, None\n",
    "\n",
    "    X = df.drop(columns=[target_column])\n",
    "    y = df[target_column]\n",
    "\n",
    "    # Split into train and test sets\n",
    "    X_train, X_test, y_train, y_test = train_test_split(X, y, test_size=test_size, random_state=SEED)\n",
    "\n",
    "    # Further split the train set into train and validation sets\n",
    "    val_ratio = val_size / (1 - test_size)\n",
    "    X_train, X_val, y_train, y_val = train_test_split(X_train, y_train, test_size=val_ratio, random_state=SEED)\n",
    "\n",
    "    logging.info(\"Data split into train, validation, and test sets.\")\n",
    "    return X_train, X_val, X_test, y_train, y_val, y_test\n",
    "\n",
    "# Specify the target column\n",
    "target_column = 'target'  # Replace with your actual target column\n",
    "\n",
    "if df is not None:\n",
    "    X_train, X_val, X_test, y_train, y_val, y_test = prepare_data(df, target_column)\n"
   ],
   "id": "98ad2cb2b9403580"
  },
  {
   "metadata": {},
   "cell_type": "code",
   "outputs": [],
   "execution_count": null,
   "source": [
    "# Model Selection - Choosing Classifier Models\n",
    "def get_models():\n",
    "    \"\"\"Returns a dictionary of candidate models.\"\"\"\n",
    "    models = {\n",
    "        'Logistic Regression': LogisticRegression(),\n",
    "        'Random Forest': RandomForestClassifier(random_state=SEED),\n",
    "        'Support Vector Machine': SVC(random_state=SEED)\n",
    "    }\n",
    "    return models\n",
    "\n",
    "# Get the models\n",
    "models = get_models()\n",
    "logging.info(f\"Available models: {list(models.keys())}\")\n"
   ],
   "id": "366a023acbd46138"
  },
  {
   "metadata": {},
   "cell_type": "code",
   "outputs": [],
   "execution_count": null,
   "source": [
    "# Train and Evaluate Models\n",
    "def train_and_evaluate(models, X_train, X_val, y_train, y_val):\n",
    "    \"\"\"Trains each model and evaluates performance on the validation set.\"\"\"\n",
    "    results = []\n",
    "\n",
    "    for name, model in models.items():\n",
    "        model.fit(X_train, y_train)\n",
    "        y_pred = model.predict(X_val)\n",
    "        \n",
    "        acc = accuracy_score(y_val, y_pred)\n",
    "        precision = precision_score(y_val, y_pred, average='weighted')\n",
    "        recall = recall_score(y_val, y_pred, average='weighted')\n",
    "        f1 = f1_score(y_val, y_pred, average='weighted')\n",
    "\n",
    "        logging.info(f\"{name} - Accuracy: {acc:.4f}, Precision: {precision:.4f}, Recall: {recall:.4f}, F1 Score: {f1:.4f}\")\n",
    "\n",
    "        results.append({\n",
    "            'Model': name,\n",
    "            'Accuracy': acc,\n",
    "            'Precision': precision,\n",
    "            'Recall': recall,\n",
    "            'F1 Score': f1\n",
    "        })\n",
    "\n",
    "    return pd.DataFrame(results)\n",
    "\n",
    "if X_train is not None and X_val is not None:\n",
    "    results_df = train_and_evaluate(models, X_train, X_val, y_train, y_val)\n",
    "    display(results_df)\n"
   ],
   "id": "e07565ed22eff132"
  },
  {
   "metadata": {},
   "cell_type": "code",
   "outputs": [],
   "execution_count": null,
   "source": [
    "# Hyperparameter Tuning with Grid Search\n",
    "def hyperparameter_tuning(model, param_grid, X_train, y_train):\n",
    "    \"\"\"Performs hyperparameter tuning using Grid Search.\"\"\"\n",
    "    grid_search = GridSearchCV(model, param_grid, cv=5, scoring='accuracy', verbose=1)\n",
    "    grid_search.fit(X_train, y_train)\n",
    "    \n",
    "    logging.info(f\"Best Parameters: {grid_search.best_params_}\")\n",
    "    return grid_search.best_estimator_\n",
    "\n",
    "# Example: Tuning Random Forest\n",
    "rf_param_grid = {\n",
    "    'n_estimators': [50, 100, 200],\n",
    "    'max_depth': [None, 10, 20],\n",
    "    'min_samples_split': [2, 5, 10]\n",
    "}\n",
    "\n",
    "if X_train is not None:\n",
    "    best_rf = hyperparameter_tuning(RandomForestClassifier(random_state=SEED), rf_param_grid, X_train, y_train)\n"
   ],
   "id": "55dfe2ade0d2548c"
  },
  {
   "metadata": {},
   "cell_type": "code",
   "outputs": [],
   "execution_count": null,
   "source": [
    "# Evaluate the Best Model on Test Data\n",
    "def evaluate_on_test(model, X_test, y_test):\n",
    "    \"\"\"Evaluates the final model on the test set.\"\"\"\n",
    "    y_pred = model.predict(X_test)\n",
    "    print(\"Classification Report:\")\n",
    "    print(classification_report(y_test, y_pred))\n",
    "    cm = confusion_matrix(y_test, y_pred)\n",
    "    sns.heatmap(cm, annot=True, fmt='d', cmap='Blues')\n",
    "    plt.xlabel('Predicted')\n",
    "    plt.ylabel('Actual')\n",
    "    plt.title('Confusion Matrix')\n",
    "    plt.show()\n",
    "\n",
    "if X_test is not None:\n",
    "    evaluate_on_test(best_rf, X_test, y_test)\n"
   ],
   "id": "958a068897079ec3"
  },
  {
   "metadata": {},
   "cell_type": "code",
   "outputs": [],
   "execution_count": null,
   "source": [
    "# Save the Best Model\n",
    "if df is not None:\n",
    "    BasicDataDHandelFunctions.save_dataset_csv(df=best_rf, output_path='best_random_forest.pkl')\n"
   ],
   "id": "27aac08706729461"
  }
 ],
 "metadata": {
  "kernelspec": {
   "display_name": "Python 3",
   "language": "python",
   "name": "python3"
  },
  "language_info": {
   "codemirror_mode": {
    "name": "ipython",
    "version": 2
   },
   "file_extension": ".py",
   "mimetype": "text/x-python",
   "name": "python",
   "nbconvert_exporter": "python",
   "pygments_lexer": "ipython2",
   "version": "2.7.6"
  }
 },
 "nbformat": 4,
 "nbformat_minor": 5
}
